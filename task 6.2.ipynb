{
 "cells": [
  {
   "cell_type": "code",
   "execution_count": 1,
   "id": "eaf41159-fee7-485e-8e01-c9c7506b759e",
   "metadata": {},
   "outputs": [],
   "source": [
    "import numpy as np\n",
    "import matplotlib.pyplot as plt\n",
    "from sklearn.datasets import load_diabetes\n",
    "from sklearn.linear_model import LinearRegression\n",
    "from sklearn.model_selection import train_test_split"
   ]
  },
  {
   "cell_type": "code",
   "execution_count": 2,
   "id": "0289cbbc-c0fb-4397-86a4-0d757b9c58d5",
   "metadata": {},
   "outputs": [],
   "source": [
    "# Load dataset\n",
    "diabetes = load_diabetes()\n",
    "X, y = diabetes.data, diabetes.target\n",
    "\n",
    "# Split data into training and testing sets\n",
    "X_train, X_test, y_train, y_test = train_test_split(X, y, test_size=0.2, random_state=42)"
   ]
  },
  {
   "cell_type": "markdown",
   "id": "48f21c4d-dccd-4228-b22b-6b51524d09a3",
   "metadata": {},
   "source": [
    "## Ridge"
   ]
  },
  {
   "cell_type": "code",
   "execution_count": 4,
   "id": "c7dec6f7-9859-41c4-9a5d-6a12ef4fa9f9",
   "metadata": {},
   "outputs": [
    {
     "name": "stdout",
     "output_type": "stream",
     "text": [
      "Ridge\n",
      "R2 train score = 0.4424027835503953\n",
      "R2 test score = 0.41915292635986545\n",
      "b: 152.241675211113, \n",
      "w= [  45.36737726  -76.66608563  291.33883165  198.99581745   -0.53030959\n",
      "  -28.57704987 -144.51190505  119.26006559  230.22160832  112.14983004]\n"
     ]
    }
   ],
   "source": [
    "from sklearn.linear_model import Ridge\n",
    "ridge_reg=Ridge()\n",
    "ridge_reg.fit(X_train,y_train)\n",
    "regressor = ridge_reg\n",
    "print ('Ridge')\n",
    "print ('R2 train score =', regressor.score(X_train, y_train))\n",
    "print ('R2 test score =', regressor.score(X_test, y_test))\n",
    "print ('b: {}, \\nw= {}'.format(regressor.intercept_, regressor.coef_)) "
   ]
  },
  {
   "cell_type": "markdown",
   "id": "ee027034-fae8-488c-bb65-b46144a20d24",
   "metadata": {},
   "source": [
    "## Lasso"
   ]
  },
  {
   "cell_type": "code",
   "execution_count": 6,
   "id": "3d4df78c-296a-406e-82cb-94b51d619239",
   "metadata": {},
   "outputs": [
    {
     "name": "stdout",
     "output_type": "stream",
     "text": [
      "Lasso\n",
      "R2 train score = 0.3646309911295581\n",
      "R2 test score = 0.3575918767219112\n",
      "b: 152.6639595689638, \n",
      "w= [  0.          -0.         413.43184792  34.83051518   0.\n",
      "   0.          -0.           0.         258.15289363   0.        ]\n"
     ]
    }
   ],
   "source": [
    "from sklearn.linear_model import Lasso\n",
    "lasso_reg=Lasso()\n",
    "lasso_reg.fit(X_train,y_train)\n",
    "regressor = lasso_reg\n",
    "print ('Lasso')\n",
    "print ('R2 train score =', regressor.score(X_train, y_train))\n",
    "print ('R2 test score =', regressor.score(X_test, y_test))\n",
    "print ('b: {}, \\nw= {}'.format(regressor.intercept_, regressor.coef_)) "
   ]
  },
  {
   "cell_type": "markdown",
   "id": "d6b698d2-82ac-4095-9552-847d4d28727a",
   "metadata": {},
   "source": [
    "## Polynomial"
   ]
  },
  {
   "cell_type": "code",
   "execution_count": 8,
   "id": "3ed6d8bc-acd5-41f9-a49d-e6ffa2766cd7",
   "metadata": {},
   "outputs": [
    {
     "name": "stdout",
     "output_type": "stream",
     "text": [
      "Polynomial\n",
      "X_train.shape=  (353, 10)\n",
      "X_train_poly.shape=  (353, 65)\n",
      "Polynomial + Linear Regression\n",
      "R2 train score = 0.6061583502354678\n",
      "R2 test score = 0.4156399336407951\n",
      "b: 63.85672685371108, \n",
      "w= [ 1.08828416e+02 -3.11898491e+02  4.21980794e+02  3.91317715e+02\n",
      " -1.69978817e+04  1.48192215e+04  6.05907491e+03  4.43719629e+01\n",
      "  6.24332056e+03  9.85710597e+00  2.39028514e+03  1.52465762e+03\n",
      " -1.29048951e+03  6.61958511e+02 -9.38779898e+02 -7.24306985e+03\n",
      "  5.90750460e+03  9.79750036e+03  1.22545646e+03  8.57928127e+02\n",
      " -1.88339350e+00  3.46891714e+02  1.25430373e+03  1.60832972e+03\n",
      "  1.65480922e+03 -3.52932759e+03 -7.60218049e+03  2.13145537e+03\n",
      "  6.88174670e+02  8.00898355e+02  3.34793540e+03 -6.15585745e+03\n",
      "  7.29715549e+03 -2.11435053e+02 -3.58431763e+03  3.69561236e+03\n",
      "  4.74291338e+02 -2.56573693e+02  1.99317477e+04 -1.46380406e+04\n",
      " -8.28673720e+03 -1.39611298e+03 -7.89399258e+03 -3.30189040e+03\n",
      "  9.33891518e+04 -1.28756527e+05 -6.15540508e+04 -2.52383912e+04\n",
      " -4.02934360e+04 -7.83769371e+03  4.56824718e+04  3.44539044e+04\n",
      "  6.46546512e+03  2.36593510e+04  4.13953522e+03  1.10367291e+04\n",
      "  1.61730992e+04  1.32783369e+04  7.79737855e+03  1.19796885e+04\n",
      "  4.51606973e+03  5.62126727e+03  3.29351610e+04  4.97824227e+03\n",
      "  1.25931942e+03]\n"
     ]
    }
   ],
   "source": [
    "from sklearn.preprocessing import PolynomialFeatures\n",
    "\n",
    "poly= PolynomialFeatures(degree=2,include_bias=False) \n",
    "X_train_poly= poly.fit_transform(X_train)\n",
    "X_test_poly = poly.transform(X_test)\n",
    "print ('Polynomial')\n",
    "print ('X_train.shape= ',X_train.shape)\n",
    "print ('X_train_poly.shape= ',X_train_poly.shape)\n",
    "poly_lin_reg = LinearRegression().fit (X_train_poly,y_train)\n",
    "regressor = poly_lin_reg\n",
    "print ('Polynomial + Linear Regression')\n",
    "print ('R2 train score =', regressor.score(X_train_poly, y_train))\n",
    "print ('R2 test score =', regressor.score(X_test_poly, y_test))\n",
    "print ('b: {}, \\nw= {}'.format(regressor.intercept_, regressor.coef_)) "
   ]
  }
 ],
 "metadata": {
  "kernelspec": {
   "display_name": "Python [conda env:base] *",
   "language": "python",
   "name": "conda-base-py"
  },
  "language_info": {
   "codemirror_mode": {
    "name": "ipython",
    "version": 3
   },
   "file_extension": ".py",
   "mimetype": "text/x-python",
   "name": "python",
   "nbconvert_exporter": "python",
   "pygments_lexer": "ipython3",
   "version": "3.12.7"
  }
 },
 "nbformat": 4,
 "nbformat_minor": 5
}
